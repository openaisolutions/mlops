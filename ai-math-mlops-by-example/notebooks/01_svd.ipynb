{
 "cells": [
  {
   "cell_type": "markdown",
   "id": "0a0ba8ce",
   "metadata": {},
   "source": [
    "# Singular Value Decomposition (SVD)This notebook introduces the concept of SVD and demonstrates how to compute it using NumPy."
   ]
  },
  {
   "cell_type": "markdown",
   "id": "d6874b26",
   "metadata": {},
   "source": [
    "## ConceptSVD factorizes a matrix $A$ into $U \\Sigma V^T$. It reveals the geometry of linear transformations by decomposing them into rotations and scalings."
   ]
  },
  {
   "cell_type": "code",
   "execution_count": null,
   "id": "68bc5d92",
   "metadata": {},
   "outputs": [],
   "source": [
    "import numpy as np\n",
    "\n",
    "A = np.array([[3, 1], [1, 3]])\n",
    "U, S, Vt = np.linalg.svd(A)\n",
    "print('U =', U)\n",
    "print('Singular values =', S)\n",
    "print('Vt =', Vt)"
   ]
  },
  {
   "cell_type": "markdown",
   "id": "d834ef82",
   "metadata": {},
   "source": [
    "### Geometric InterpretationThe columns of $U$ and $V$ represent orthogonal directions. The singular values stretch or shrink along those axes."
   ]
  },
  {
   "cell_type": "code",
   "execution_count": null,
   "id": "b38087f5",
   "metadata": {},
   "outputs": [],
   "source": [
    "import matplotlib.pyplot as plt\n",
    "origin = np.zeros((2, 2))\n",
    "axes = np.eye(2)\n",
    "transformed = U @ np.diag(S)\n",
    "plt.figure()\n",
    "plt.quiver(*origin, axes[0], axes[1], color=['r', 'b'], scale=1, angles='xy', scale_units='xy')\n",
    "plt.quiver(*origin, transformed[:,0], transformed[:,1], color=['g', 'm'], scale=1, angles='xy', scale_units='xy')\n",
    "plt.xlim(-4, 4)\n",
    "plt.ylim(-4, 4)\n",
    "plt.legend(['Input Axes', 'Transformed Axes'])\n",
    "plt.title('SVD Transformation')\n",
    "plt.show()"
   ]
  },
  {
   "cell_type": "markdown",
   "id": "c41b4dd2",
   "metadata": {},
   "source": [
    "## ChallengeUse SVD to perform simple image compression. Load an image, keep only a few singular values, and reconstruct the approximation."
   ]
  }
 ],
 "metadata": {
  "kernelspec": {
   "display_name": "Python 3",
   "language": "python",
   "name": "python3"
  }
 },
 "nbformat": 4,
 "nbformat_minor": 5
}
