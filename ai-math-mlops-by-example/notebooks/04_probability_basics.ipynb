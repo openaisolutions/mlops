{
 "cells": [
  {
   "cell_type": "markdown",
   "id": "0f13a8ad",
   "metadata": {},
   "source": [
    "# Probability Basics\n",
    "\n",
    "This chapter covers probability basics concepts."
   ]
  },
  {
   "cell_type": "markdown",
   "id": "9d3289ca",
   "metadata": {},
   "source": [
    "## Outline\n",
    "\n",
    "1. Concept\n",
    "2. Implementation\n",
    "3. Applications"
   ]
  },
  {
   "cell_type": "code",
   "execution_count": null,
   "id": "8047fd48",
   "metadata": {},
   "outputs": [],
   "source": [
    "# TODO: add code examples"
   ]
  }
 ],
 "metadata": {},
 "nbformat": 4,
 "nbformat_minor": 5
}
