{
 "cells": [
  {
   "cell_type": "markdown",
   "id": "e05b1937",
   "metadata": {},
   "source": [
    "# Linear Regression\n",
    "\n",
    "This chapter covers linear regression concepts."
   ]
  },
  {
   "cell_type": "markdown",
   "id": "f7eed1d2",
   "metadata": {},
   "source": [
    "## Outline\n",
    "\n",
    "1. Concept\n",
    "2. Implementation\n",
    "3. Applications"
   ]
  },
  {
   "cell_type": "code",
   "execution_count": null,
   "id": "0a6925b1",
   "metadata": {},
   "outputs": [],
   "source": [
    "# TODO: add code examples"
   ]
  }
 ],
 "metadata": {},
 "nbformat": 4,
 "nbformat_minor": 5
}
