{
 "cells": [
  {
   "cell_type": "markdown",
   "id": "f710db45",
   "metadata": {},
   "source": [
    "# Sequence Models\n",
    "\n",
    "This chapter covers sequence models concepts."
   ]
  },
  {
   "cell_type": "markdown",
   "id": "0dde8715",
   "metadata": {},
   "source": [
    "## Outline\n",
    "\n",
    "1. Concept\n",
    "2. Implementation\n",
    "3. Applications"
   ]
  },
  {
   "cell_type": "code",
   "execution_count": null,
   "id": "727e176f",
   "metadata": {},
   "outputs": [],
   "source": [
    "# TODO: add code examples"
   ]
  }
 ],
 "metadata": {},
 "nbformat": 4,
 "nbformat_minor": 5
}
