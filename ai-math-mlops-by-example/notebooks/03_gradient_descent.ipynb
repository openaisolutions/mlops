{
 "cells": [
  {
   "cell_type": "markdown",
   "id": "6db55a78",
   "metadata": {},
   "source": [
    "# Gradient Descent\n",
    "\n",
    "This chapter covers gradient descent concepts."
   ]
  },
  {
   "cell_type": "markdown",
   "id": "1fecb9dc",
   "metadata": {},
   "source": [
    "## Outline\n",
    "\n",
    "1. Concept\n",
    "2. Implementation\n",
    "3. Applications"
   ]
  },
  {
   "cell_type": "code",
   "execution_count": null,
   "id": "d089b6c1",
   "metadata": {},
   "outputs": [],
   "source": [
    "# TODO: add code examples"
   ]
  }
 ],
 "metadata": {},
 "nbformat": 4,
 "nbformat_minor": 5
}
