{
 "cells": [
  {
   "cell_type": "markdown",
   "id": "6c824b39",
   "metadata": {},
   "source": [
    "# Neural Networks\n",
    "\n",
    "This chapter covers neural networks concepts."
   ]
  },
  {
   "cell_type": "markdown",
   "id": "03ecbf0b",
   "metadata": {},
   "source": [
    "## Outline\n",
    "\n",
    "1. Concept\n",
    "2. Implementation\n",
    "3. Applications"
   ]
  },
  {
   "cell_type": "code",
   "execution_count": null,
   "id": "f80a70c2",
   "metadata": {},
   "outputs": [],
   "source": [
    "# TODO: add code examples"
   ]
  }
 ],
 "metadata": {},
 "nbformat": 4,
 "nbformat_minor": 5
}
